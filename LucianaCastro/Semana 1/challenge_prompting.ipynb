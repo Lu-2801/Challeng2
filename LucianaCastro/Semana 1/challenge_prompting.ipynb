{
 "cells": [
  {
   "cell_type": "markdown",
   "id": "92de8ca4-7181-45f5-9980-b723d2566f5e",
   "metadata": {},
   "source": [
    "# Challenge Prompting\n",
    "\n",
    "Resolver los siguientes ejercicios dejando el codigo con su ejecucion.\n",
    "\n",
    "Importar las librerias necesarias y **correr las celdas para visualizar el resultado en cada ejercicio**."
   ]
  },
  {
   "cell_type": "code",
   "execution_count": 1,
   "id": "d65bbb09-0f5a-4e97-9a06-2361c5cdd1bd",
   "metadata": {},
   "outputs": [],
   "source": [
    "## bloque importacion de librerias\n",
    "\n",
    "import json\n",
    "import ipywidgets as widgets\n",
    "from IPython.display import display, clear_output"
   ]
  },
  {
   "cell_type": "code",
   "execution_count": 2,
   "id": "e004e5b7-b704-4592-b8b4-b01b8d6687cb",
   "metadata": {},
   "outputs": [
    {
     "name": "stdout",
     "output_type": "stream",
     "text": [
      "Ft9fLQe6uzz8vko2NRMO99IocMrseyzT31DbItuE\n"
     ]
    }
   ],
   "source": [
    "## bloque variables de entorno\n",
    "from dotenv import load_dotenv\n",
    "import os\n",
    "\n",
    "load_dotenv()  # Load .env file\n",
    "\n",
    "api_key = os.getenv(\"COHERE_API_KEY\")\n",
    "print(api_key)  # Verify the key is loaded\n"
   ]
  },
  {
   "cell_type": "code",
   "execution_count": 3,
   "id": "cd6745ff-cd45-4231-b3d6-518954a9ffca",
   "metadata": {},
   "outputs": [
    {
     "name": "stdout",
     "output_type": "stream",
     "text": [
      "id='677a6ee5-8a24-41d3-82b8-3a3ba5cb1397' finish_reason='COMPLETE' prompt=None message=AssistantMessageResponse(role='assistant', tool_calls=None, tool_plan=None, content=[TextAssistantMessageResponseContentItem(type='text', text='Hello! How can I help you today?')], citations=None) usage=Usage(billed_units=UsageBilledUnits(input_tokens=3.0, output_tokens=9.0, search_units=None, classifications=None), tokens=UsageTokens(input_tokens=204.0, output_tokens=9.0)) logprobs=None\n"
     ]
    }
   ],
   "source": [
    "import cohere\n",
    "\n",
    "co = cohere.ClientV2()\n",
    "\n",
    "response = co.chat(\n",
    "    model=\"command-r-plus-08-2024\",\n",
    "    messages=[{\"role\": \"user\", \"content\": \"hello world!\"}],\n",
    ")\n",
    "\n",
    "print(response)\n",
    "\n"
   ]
  },
  {
   "cell_type": "markdown",
   "id": "9aacdb26-ce51-49cc-b37f-5aa45c09ff51",
   "metadata": {},
   "source": [
    "## Ejercicio 1\n",
    "\n",
    "Extraccion de entidades\n",
    "\n",
    "Utilizar el LLM para extraer las siguientes entidades del texto medico.\n",
    "\n",
    "- Paciente:\n",
    "    - Nombre\n",
    "    - Edad\n",
    "- Fecha de admisión\n",
    "- Síntomas\n",
    "- Diagnóstico\n",
    "- Tratamiento recomendado\n",
    "\n",
    "**Aclaracion:** \n",
    "\n",
    "La salida tiene que ser un **string con formato de tipo json**, el cual se convertira en un diccionario de Python.\n",
    "\n",
    "Si la linea de conversion en test da error el ejercicio no esta completo."
   ]
  },
  {
   "cell_type": "code",
   "execution_count": 4,
   "id": "750e43d7-b074-4973-9cd0-5a6fbe816084",
   "metadata": {},
   "outputs": [
    {
     "data": {
      "text/plain": [
       "{'paciente': {'nombre': 'María González', 'edad': 45},\n",
       " 'fecha_admision': '2023-08-05',\n",
       " 'sintomas': ['fatiga crónica', 'dolores musculares'],\n",
       " 'diagnostico': 'fibromialgia',\n",
       " 'tratamiento': ['fisioterapia', 'medicamentos analgésicos']}"
      ]
     },
     "execution_count": 4,
     "metadata": {},
     "output_type": "execute_result"
    }
   ],
   "source": [
    "# ejemplo \n",
    "\n",
    "# texto a analizar\n",
    "\"\"\"La paciente, María González, de 45 años, fue admitida en el Hospital Central el 5 de agosto de 2023 debido a síntomas de fatiga crónica y dolores musculares./\n",
    "Tras una serie de análisis, se diagnosticó fibromialgia. La doctora a cargo, Laura Ramírez, recomendó un tratamiento basado en fisioterapia y medicamentos analgésicos. /\n",
    "La próxima consulta está programada para el 15 de septiembre.\"\"\"\n",
    "\n",
    "\n",
    "# respuesta del LLM\n",
    "{\n",
    "  \"paciente\": {\n",
    "    \"nombre\": \"María González\",\n",
    "    \"edad\": 45\n",
    "  },\n",
    "  \"fecha_admision\": \"2023-08-05\",\n",
    "  \"sintomas\": [\n",
    "    \"fatiga crónica\",\n",
    "    \"dolores musculares\"\n",
    "  ],\n",
    "  \"diagnostico\": \"fibromialgia\",\n",
    "  \"tratamiento\": [\n",
    "    \"fisioterapia\",\n",
    "    \"medicamentos analgésicos\"\n",
    "  ]\n",
    "}"
   ]
  },
  {
   "cell_type": "code",
   "execution_count": 5,
   "id": "0ac8d0a6-db5c-4eec-9f71-89e60ceaf914",
   "metadata": {},
   "outputs": [],
   "source": [
    "#####"
   ]
  },
  {
   "cell_type": "code",
   "execution_count": 5,
   "id": "425cffab-9efd-4d80-bc64-6ef69ce233e1",
   "metadata": {},
   "outputs": [],
   "source": [
    "text_to_analize = \"\"\"Sofía López, de 28 años, ingresó al Hospital Infantil el 3 de abril de 2023 debido a fiebre alta y tos persistente./\n",
    "Después de varias pruebas, se le diagnosticó neumonía. La pediatra responsable, Dra. Claudia Torres, indicó tratamiento con antibióticos y reposo./\n",
    "La próxima evaluación será el 10 de abril.\"\"\""
   ]
  },
  {
   "cell_type": "code",
   "execution_count": 6,
   "id": "2ff6d292-d4cb-4484-811e-d0d641c66d1c",
   "metadata": {},
   "outputs": [
    {
     "name": "stdout",
     "output_type": "stream",
     "text": [
      "{\n",
      "  \"paciente\": {\n",
      "    \"nombre\": \"Sofía López\",\n",
      "    \"edad\": 28\n",
      "  },\n",
      "  \"fecha_admision\": \"2023-04-03\",\n",
      "  \"sintomas\": [\n",
      "    \"fiebre alta\",\n",
      "    \"tos persistente\"\n",
      "  ],\n",
      "  \"diagnostico\": \"neumonía\",\n",
      "  \"tratamiento\": [\n",
      "    \"antibióticos\",\n",
      "    \"reposo\"\n",
      "  ]\n",
      "}\n"
     ]
    }
   ],
   "source": [
    "# your code here\n",
    "\n",
    "prompt = f\"\"\"Extraer del texto delimitado por triples acentos graves las siguientes entidades: /\n",
    "Paciente, Fecha de admisión, Síntomas, Diagnóstico, Tratamiento recomendado, y proporcionar la respuesta en string con formato de tipo json como el siguiente ejemplo:/ \n",
    "{{\n",
    "  \"paciente\": {{\n",
    "    \"nombre\": \"María González\",\n",
    "    \"edad\": 45\n",
    "  }},\n",
    "  \"fecha_admision\": \"2023-08-05\",\n",
    "  \"sintomas\": [\n",
    "    \"fatiga crónica\",\n",
    "    \"dolores musculares\"\n",
    "  ],\n",
    "  \"diagnostico\": \"fibromialgia\",\n",
    "  \"tratamiento\": [\n",
    "    \"fisioterapia\",\n",
    "    \"medicamentos analgésicos\"\n",
    "  ]\n",
    "}}\n",
    "```{text_to_analize}```\n",
    "\"\"\"\n",
    "\n",
    "response = co.chat(\n",
    "    model=\"command-r-plus-08-2024\",\n",
    "    messages=[{\"role\": \"user\", \"content\": prompt}],\n",
    ")\n",
    "\n",
    "llm_response = response.message.content[0].text\n",
    "print(llm_response)"
   ]
  },
  {
   "cell_type": "raw",
   "id": "b7c77af1-631c-4ae1-8c1c-b9fc50e8ea08",
   "metadata": {},
   "source": [
    "# test\n",
    "\n",
    "final_result = json.loads(llm_response)"
   ]
  },
  {
   "cell_type": "code",
   "execution_count": null,
   "id": "097ee190-faca-46d8-9c11-0f8904bd1752",
   "metadata": {},
   "outputs": [],
   "source": []
  },
  {
   "cell_type": "markdown",
   "id": "b37fbf25-6db4-432a-82c4-2e7edce27686",
   "metadata": {},
   "source": [
    "## Ejercicio 2\n",
    "\n",
    "Tenemos dos funciones en Python, una llamada *'add_contact'* y otra llamada *'get_information'*.\n",
    "\n",
    "**Utilizar algun LLM que permita funtion calling** y desarrollar un codigo secuencial automatico que consiga:\n",
    "\n",
    "Interpretar la consulta del usuario, identificar a que funcion llamar, luego llamarla (si es que aplica) y darle una respuesta final al usuario.  (usar function calling para esta solucion)\n",
    "\n",
    "La entrada a dicho codigo es la consulta del usuario, a continuacion algunos ejemplos:\n",
    "\n",
    "- \"Agrega a Juan Pérez con el número 555-1234 y el correo juanperez@mail.com.\"\n",
    "- \"Guarda a Lucía Gómez en mis contactos. Su teléfono es 555-5678 y su email es lucia.gomez@gmail.com.\"\n",
    "- \"Cual es el Email de Juan Pérez.?\"\n",
    "\n",
    "Salidas esperadas de dichos ejemplos (variaran porque las genera el LLM):\n",
    "-  El contacto fue anadido con exito\n",
    "-  Se anadio el contacto\n",
    "-  El email de juan perez es juanperez@mail.com\n",
    "\n",
    "Link de ayuda: https://github.com/cohere-ai/notebooks/blob/main/notebooks/agents/Vanilla_Tool_Use_v2.ipynb"
   ]
  },
  {
   "cell_type": "code",
   "execution_count": 7,
   "id": "34660997-a3f6-42ed-87ee-2e99c5c3e097",
   "metadata": {},
   "outputs": [],
   "source": [
    "def add_contact(name, phone, email):\n",
    "    \"\"\"\n",
    "    Agrega un contacto al diccionario.\n",
    "    Parámetros:\n",
    "        name (str): Nombre del contacto.\n",
    "        phone (str): Número de teléfono del contacto.\n",
    "        email (str): Correo electrónico del contacto.\n",
    "    Retorna:\n",
    "        str: Mensaje confirmando la adición del contacto.\n",
    "    \"\"\"\n",
    "    contacts[name] = {'phone': phone, 'email': email}\n",
    "    return \"Contacto añadido con éxito.\"\n",
    "\n",
    "def get_information(name):\n",
    "    \"\"\"\n",
    "    Recupera la información de un contacto.\n",
    "    Parámetros:\n",
    "        name (str): Nombre del contacto.\n",
    "    Retorna:\n",
    "        dict/str: Información del contacto o un mensaje si no existe.\n",
    "    \"\"\"\n",
    "    if name in contacts:\n",
    "        return contacts[name]\n",
    "    else:\n",
    "        return \"Contacto no encontrado.\""
   ]
  },
  {
   "cell_type": "code",
   "execution_count": 8,
   "id": "0fb79ea5-4ae3-4367-8213-8c38059b3f1b",
   "metadata": {},
   "outputs": [],
   "source": [
    "contacts = {\n",
    "                        'Joaquin Lopez':{'tel': 15456663258, 'mail': 'Joacolocolopez@gmail.com'},\n",
    "                      'Flavio Oncativo':{'tel': 1545554178, 'mail': 'FOncativo@hotmail.com'}\n",
    "}"
   ]
  },
  {
   "cell_type": "code",
   "execution_count": 10,
   "id": "3d25d15c-4938-48a7-af7f-08b91e8a20b4",
   "metadata": {},
   "outputs": [],
   "source": [
    "tools = [\n",
    "    {\n",
    "        \"type\": \"function\",\n",
    "        \"function\": {\n",
    "            \"name\": \"add_contact\",\n",
    "            \"description\": \"Agrega un contacto al diccionario.\",\n",
    "            \"parameters\": {\n",
    "                \"type\": \"object\",\n",
    "                \"properties\": {\n",
    "                    \"name\": {\n",
    "                        \"type\": \"string\",\n",
    "                        \"description\": \"Nombre del contacto.\"\n",
    "                    },\n",
    "                    \"phone\": {\n",
    "                        \"type\": \"string\",\n",
    "                        \"description\": \"Número de teléfono del contacto.\"\n",
    "                    },\n",
    "                    \"email\": {\n",
    "                        \"type\": \"string\",\n",
    "                        \"description\": \"Correo electrónico del contacto.\"\n",
    "                    },\n",
    "                },\n",
    "                \"required\": [\"name\", \"phone\", \"email\"]\n",
    "            }\n",
    "        }\n",
    "    },\n",
    "    {\n",
    "        \"type\": \"function\",\n",
    "        \"function\": {\n",
    "            \"name\": \"get_information\",\n",
    "            \"description\": \"Obtiene información específica de un contacto por su nombre, como su número de teléfono o correo electrónico.\",\n",
    "            \"parameters\": {\n",
    "                \"type\": \"object\",\n",
    "                \"properties\": {\n",
    "                    \"name\": {\n",
    "                        \"type\": \"string\",\n",
    "                        \"description\": \"Nombre del contacto.\"\n",
    "                    },\n",
    "                },\n",
    "                \"required\": [\"name\"]\n",
    "            }\n",
    "        }\n",
    "    }\n",
    "]\n",
    "\n",
    "map_funciones = {\n",
    "    \"add_contact\": add_contact,\n",
    "    \"get_information\": get_information,\n",
    "} "
   ]
  },
  {
   "cell_type": "code",
   "execution_count": 64,
   "id": "6ddaf4d1-6ab9-4707-823d-11ada125b0f2",
   "metadata": {},
   "outputs": [],
   "source": [
    "mensaje_sistema = \"\"\"\n",
    "Eres un asistente que puede administrar contactos utilizando herramientas. \n",
    "Si te preguntan por información de un contacto, utiliza la herramienta `get_information` \n",
    "para recuperar los datos relacionados. Si te piden agregar un contacto, usa `add_contact`.\n",
    "Utilizar los nombre tal cual como son ingresados por el usuario, por ejemplo:\n",
    "Q: Cual es el Email de Joaquin Lopez?\" \n",
    "tool_plan: Voy a utilizar la herramienta get_information para obtener el email de Joaquin Lopez.\n",
    "\"\"\"\n",
    "\n",
    "prompt = \"Cual es el Email de Joaquin Lopez?\"\n",
    "\n",
    "messages = [\n",
    "    {\"role\": \"system\", \"content\": mensaje_sistema},\n",
    "    {\"role\": \"user\", \"content\": prompt},\n",
    "]\n"
   ]
  },
  {
   "cell_type": "code",
   "execution_count": 65,
   "id": "227a08a8-e743-40fe-81ae-c731959231bf",
   "metadata": {
    "scrolled": true
   },
   "outputs": [
    {
     "name": "stdout",
     "output_type": "stream",
     "text": [
      "id='1b02e6bc-6989-48df-be46-ee085f22970b' finish_reason='TOOL_CALL' prompt=None message=AssistantMessageResponse(role='assistant', tool_calls=[ToolCallV2(id='get_information_045th5qw12s1', type='function', function=ToolCallV2Function(name='get_information', arguments='{\"name\":\"Joaquin Lopez\"}'))], tool_plan='Voy a utilizar la herramienta get_information para obtener el email de Joaquin Lopez.', content=None, citations=None) usage=Usage(billed_units=UsageBilledUnits(input_tokens=179.0, output_tokens=26.0, search_units=None, classifications=None), tokens=UsageTokens(input_tokens=965.0, output_tokens=60.0)) logprobs=None\n",
      "Plan:\n",
      "Voy a utilizar la herramienta get_information para obtener el email de Joaquin Lopez. \n",
      "\n",
      "Llamar a:\n",
      "Tool name: get_information | Parameters: {\"name\":\"Joaquin Lopez\"}\n"
     ]
    }
   ],
   "source": [
    "response = co.chat(model=\"command-r-plus-08-2024\",\n",
    "                   messages=messages,\n",
    "                   tools=tools)\n",
    "print (response)\n",
    "\n",
    "print(\"Plan:\")\n",
    "print(response.message.tool_plan, \"\\n\")\n",
    "print(\"Llamar a:\")\n",
    "for tc in response.message.tool_calls:\n",
    "    print(f\"Tool name: {tc.function.name} | Parameters: {tc.function.arguments}\")\n",
    "    \n",
    "# Agrego el historial de chat\n",
    "messages.append(\n",
    "    {\n",
    "        \"role\": \"assistant\",\n",
    "        \"tool_calls\": response.message.tool_calls,\n",
    "        \"tool_plan\": response.message.tool_plan,\n",
    "    }\n",
    ")\n"
   ]
  },
  {
   "cell_type": "code",
   "execution_count": 66,
   "id": "fc974ec3-39a5-4399-a5ff-f7d1f3714067",
   "metadata": {},
   "outputs": [
    {
     "name": "stdout",
     "output_type": "stream",
     "text": [
      "{\"name\":\"Joaquin Lopez\"}\n",
      "{'tel': 15456663258, 'mail': 'Joacolocolopez@gmail.com'}\n"
     ]
    }
   ],
   "source": [
    "# Itero sobre las function calling generadas por el modelo\n",
    "\n",
    "for tc in response.message.tool_calls:\n",
    "    print(tc.function.arguments)\n",
    "    \n",
    "    # llamo a la función recomendada por el modelo usando los parametros recomendados\n",
    "    salida_funcion = map_funciones[tc.function.name](**json.loads(tc.function.arguments))\n",
    "\n",
    "    print( salida_funcion)\n",
    "\n",
    "    if isinstance(salida_funcion, dict):\n",
    "        content = json.dumps(salida_funcion)\n",
    "    else:\n",
    "        content = str(salida_funcion)\n",
    "        \n",
    "    # Agrego el historial de chat\n",
    "    messages.append(\n",
    "        {\"role\": \"tool\", \"tool_call_id\": tc.id, \"content\": content}\n",
    "    )"
   ]
  },
  {
   "cell_type": "code",
   "execution_count": 67,
   "id": "1a58aec8-ea4f-4482-9994-4b52c3eee60d",
   "metadata": {},
   "outputs": [
    {
     "name": "stdout",
     "output_type": "stream",
     "text": [
      "Respuesta:\n",
      "El email de Joaquin Lopez es Joacolocolopez@gmail.com.\n"
     ]
    }
   ],
   "source": [
    "co = cohere.ClientV2()\n",
    "response = co.chat(\n",
    "    model=\"command-r-plus-08-2024\",\n",
    "    messages=messages,\n",
    "    tools=tools\n",
    ")\n",
    "print(\"Respuesta:\")\n",
    "print(response.message.content[0].text)"
   ]
  },
  {
   "cell_type": "code",
   "execution_count": 37,
   "id": "1b4e82fd-7dbe-4bf6-9b68-131e96e379fd",
   "metadata": {},
   "outputs": [
    {
     "name": "stdout",
     "output_type": "stream",
     "text": [
      "{'Joaquin Lopez': {'tel': 15456663258, 'mail': 'Joacolocolopez@gmail.com'}, 'Flavio Oncativo': {'tel': 1545554178, 'mail': 'FOncativo@hotmail.com'}}\n"
     ]
    }
   ],
   "source": [
    "print(contacts)"
   ]
  },
  {
   "cell_type": "code",
   "execution_count": 6,
   "id": "554fc360-160c-445f-b0fd-cf2d0b6c34c2",
   "metadata": {},
   "outputs": [],
   "source": [
    "##Unica celda automatizada\n",
    "#contiene las funciones necesarias\n",
    "#tiene definida una lista de tools que se pasa al modelo\n",
    "#un mensaje donde se pone en contexto al modelo sobre la funcion que debe cumplir\n",
    "#contiene la funcion procesar_mensaje, la cual recibe una pregunta (str) y retorna una respuesta"
   ]
  },
  {
   "cell_type": "code",
   "execution_count": 4,
   "id": "a8ca44e6-5109-4702-babc-723cbd3827f2",
   "metadata": {},
   "outputs": [],
   "source": [
    "def add_contact(name, phone, email):\n",
    "    \"\"\"\n",
    "    Agrega un contacto al diccionario.\n",
    "    Parámetros:\n",
    "        name (str): Nombre del contacto.\n",
    "        phone (str): Número de teléfono del contacto.\n",
    "        email (str): Correo electrónico del contacto.\n",
    "    Retorna:\n",
    "        str: Mensaje confirmando la adición del contacto.\n",
    "    \"\"\"\n",
    "    contacts[name] = {'phone': phone, 'email': email}\n",
    "    return \"Contacto añadido con éxito.\"\n",
    "\n",
    "def get_information(name):\n",
    "    \"\"\"\n",
    "    Recupera la información de un contacto.\n",
    "    Parámetros:\n",
    "        name (str): Nombre del contacto.\n",
    "    Retorna:\n",
    "        dict/str: Información del contacto o un mensaje si no existe.\n",
    "    \"\"\"\n",
    "    if name in contacts:\n",
    "        return contacts[name]\n",
    "    else:\n",
    "        return \"Contacto no encontrado.\"\n",
    "\n",
    "contacts = {\n",
    "                        'Joaquin Lopez':{'tel': 15456663258, 'mail': 'Joacolocolopez@gmail.com'},\n",
    "                      'Flavio Oncativo':{'tel': 1545554178, 'mail': 'FOncativo@hotmail.com'}\n",
    "}\n",
    "\n",
    "tools = [\n",
    "    {\n",
    "        \"type\": \"function\",\n",
    "        \"function\": {\n",
    "            \"name\": \"add_contact\",\n",
    "            \"description\": \"Agrega un contacto al diccionario.\",\n",
    "            \"parameters\": {\n",
    "                \"type\": \"object\",\n",
    "                \"properties\": {\n",
    "                    \"name\": {\n",
    "                        \"type\": \"string\",\n",
    "                        \"description\": \"Nombre del contacto.\"\n",
    "                    },\n",
    "                    \"phone\": {\n",
    "                        \"type\": \"string\",\n",
    "                        \"description\": \"Número de teléfono del contacto.\"\n",
    "                    },\n",
    "                    \"email\": {\n",
    "                        \"type\": \"string\",\n",
    "                        \"description\": \"Correo electrónico del contacto.\"\n",
    "                    },\n",
    "                },\n",
    "                \"required\": [\"name\", \"phone\", \"email\"]\n",
    "            }\n",
    "        }\n",
    "    },\n",
    "    {\n",
    "        \"type\": \"function\",\n",
    "        \"function\": {\n",
    "            \"name\": \"get_information\",\n",
    "            \"description\": \"Obtiene información específica de un contacto por su nombre, como su número de teléfono o correo electrónico.\",\n",
    "            \"parameters\": {\n",
    "                \"type\": \"object\",\n",
    "                \"properties\": {\n",
    "                    \"name\": {\n",
    "                        \"type\": \"string\",\n",
    "                        \"description\": \"Nombre del contacto.\"\n",
    "                    },\n",
    "                },\n",
    "                \"required\": [\"name\"]\n",
    "            }\n",
    "        }\n",
    "    }\n",
    "]\n",
    "\n",
    "map_funciones = {\n",
    "    \"add_contact\": add_contact,\n",
    "    \"get_information\": get_information,\n",
    "} \n",
    "\n",
    "\n",
    "mensaje_sistema = \"\"\"\n",
    "Eres un asistente que puede administrar contactos utilizando herramientas. \n",
    "Si te preguntan por información de un contacto, utiliza la herramienta `get_information` \n",
    "para recuperar los datos relacionados. Si te piden agregar un contacto, usa `add_contact`.\n",
    "Utilizar los nombre tal cual como son ingresados por el usuario, por ejemplo:\n",
    "Q: Cual es el Email de Joaquin Lopez?\" \n",
    "tool_plan: Voy a utilizar la herramienta get_information para obtener el email de Joaquin Lopez.\n",
    "\"\"\"\n",
    "\n",
    "\n",
    "\n",
    "def procesar_mensaje(prompt):\n",
    "    co = cohere.ClientV2()\n",
    "    messages = [\n",
    "        {\"role\": \"system\", \"content\": mensaje_sistema},\n",
    "        {\"role\": \"user\", \"content\": prompt},\n",
    "    ]\n",
    "    \n",
    "    # Primera llamada a la API\n",
    "    response = co.chat(\n",
    "        model=\"command-r-plus-08-2024\",\n",
    "        messages=messages,\n",
    "        tools=tools\n",
    "    )\n",
    "\n",
    "    # Agrego el historial de chat\n",
    "    messages.append(\n",
    "        {\n",
    "            \"role\": \"assistant\",\n",
    "            \"tool_calls\": response.message.tool_calls,\n",
    "            \"tool_plan\": response.message.tool_plan,\n",
    "        }\n",
    "    )\n",
    "    # Iteramos sobre las tool_calls generadas por el modelo\n",
    "    for tc in response.message.tool_calls:\n",
    "        # Llamamos a la función recomendada por el modelo usando los parámetros recomendados\n",
    "        salida_funcion = map_funciones[tc.function.name](**json.loads(tc.function.arguments))\n",
    "        \n",
    "        if isinstance(salida_funcion, dict):\n",
    "            content = json.dumps(salida_funcion)\n",
    "        else:\n",
    "            content = str(salida_funcion)\n",
    "\n",
    "        # Agregamos el contenido a los mensajes\n",
    "        messages.append(\n",
    "            {\"role\": \"tool\", \"tool_call_id\": tc.id, \"content\": content}\n",
    "        )\n",
    "        \n",
    "    # Segunda llamada para obtener la respuesta final\n",
    "    response = co.chat(\n",
    "        model=\"command-r-plus-08-2024\",\n",
    "        messages=messages,\n",
    "        tools=tools\n",
    "    )\n",
    "\n",
    "    return response.message.content[0].text"
   ]
  },
  {
   "cell_type": "code",
   "execution_count": null,
   "id": "7d079e3a-a121-49ee-980f-ec67c7838261",
   "metadata": {},
   "outputs": [],
   "source": [
    "# Prueba de la funcion procesar mensaje enviando una pregunta"
   ]
  },
  {
   "cell_type": "code",
   "execution_count": 7,
   "id": "5ace85d2-cd00-4bd4-81e2-68113eb9f8d5",
   "metadata": {},
   "outputs": [
    {
     "name": "stdout",
     "output_type": "stream",
     "text": [
      "Lo siento, no he encontrado el email de Alvaro.\n"
     ]
    }
   ],
   "source": [
    "respuesta = procesar_mensaje(\"Cual es el Email de Alvaro?\")\n",
    "print(respuesta)"
   ]
  },
  {
   "cell_type": "markdown",
   "id": "e9d8badf-dc90-4005-b916-8e528105d797",
   "metadata": {},
   "source": [
    "## Ejercicio 3\n",
    "\n",
    "Crear una funcion llamada \"history_answer\", que toma como parametro de entrada una pregunta sobre un contexto dado y la salida es la respuesta final del proceso impulsado por un LLM.\n",
    "\n",
    "Dada una historia, el usuario podra hacer preguntas sobre la misma y el LLM debe responder siguiendo los siguientes lineamientos:\n",
    "\n",
    "REQUISITOS DE LA RESPUESTA\n",
    "- las respuestas deben ser en base a la historia\n",
    "- ante la misma pregunta siempre debe responder de la misma manera.\n",
    "- que responda en solo una oracion.\n",
    "- el idioma que responde debe ser el mismo que con el que se pregunta (ingles, espanol, portugues).\n",
    "- que agregue emojis en la oracion que resuman el contenido de la misma.\n",
    "- que responda siempre en tercera persona.\n",
    "- si la pregunta no tiene relacion alguna con el contexto, la respuesta debe ser 'Lo siento no puedo ayudarte con eso'.\n",
    "- Responder con 'Hakuna Matata!' al final de **todas** las respuestas (no importa idioma ni cantidad de tokens).\n",
    "\n",
    "**Ayudin**: \n",
    "- No se limiten a usar 1 solo request al LLM, pueden dividirlo en partes para que por un lado se verifique el idioma, por otro lado se verifique si la pregunta tiene relacion con el contexto, etc\n",
    "\n",
    "- Estructuren bien el prompt procurando separar instrucciones, contexto(historia) y pregunta del usuario.\n",
    "\n",
    "- Recuerden usar el system message y user message.\n",
    "\n"
   ]
  },
  {
   "cell_type": "code",
   "execution_count": null,
   "id": "09f36820-b7d3-4813-a0c3-351c598106ec",
   "metadata": {},
   "outputs": [],
   "source": [
    "# ejemplo flojo de estructura de prompt\n",
    "# prompt = f\"Responde a la pregunta: {pregunta} de manera concisa y divertida en base a la siguiente historia: {historia}\""
   ]
  },
  {
   "cell_type": "code",
   "execution_count": null,
   "id": "c5602f56-4032-4cc6-a2c5-7b29cf2a2a5c",
   "metadata": {},
   "outputs": [],
   "source": []
  },
  {
   "cell_type": "code",
   "execution_count": 37,
   "id": "4fa65537-3aa6-43c6-87e9-86a689f8e1d8",
   "metadata": {},
   "outputs": [],
   "source": [
    "co = cohere.ClientV2()\n",
    "\n",
    "\"funcion utilizada para detectar el idioma de la frase que se pase por parametro (string)\"\n",
    "def detector_idioma (frase):\n",
    "    response_idioma = co.chat(\n",
    "        model=\"command-r-plus-08-2024\",\n",
    "        messages=[\n",
    "            {\"role\": \"system\", \"content\":\"Actua como un detector de idiomas profesional, tu tarea es detectar el idioma de entrada del usuario. Responde únicamente con el nombre del idioma, por ejemplo: 'español', 'inglés', 'portugués'.\"},\n",
    "            {\"role\": \"user\", \"content\": frase}\n",
    "        ],\n",
    "        temperature=0.1,\n",
    "        seed=42,\n",
    "    )\n",
    "    idioma = response_idioma.message.content[0].text\n",
    "    return idioma\n",
    "\n",
    "\"función utulizada como traductor, el modelo command no daba tan buenos resultados como command-r-plus-08-2024 para esta tarea\"\n",
    "def traductor(frase, idioma_traducir):\n",
    "    response = co.chat(\n",
    "        model=\"command-r-plus-08-2024\",\n",
    "        messages=[\n",
    "            {\"role\": \"system\", \"content\": f\"Actua como un traductor profesional, tu tarea es traducir al {idioma_traducir}. Responde solo la traducción y conserva los emojis de la entrada sólo si los hubiera\"},\n",
    "            {\"role\": \"user\", \"content\": frase}\n",
    "        ],\n",
    "        temperature=0.1,\n",
    "        seed=42,\n",
    "    )\n",
    "\n",
    "    return response.message.content[0].text\n",
    "\n",
    "\n",
    "def history_answer(pregunta):\n",
    "    prompt = f\"\"\" \n",
    "            ###\n",
    "            Instrucciones: \n",
    "            - Responde la pregunta utilizado el contexto.\n",
    "            - Responde de manera concisa en solo una oración.\n",
    "            - Agrega emojis relacionados con la oración al final.\n",
    "            - Responde en tercera persona.\n",
    "            - Si la pregunta no tiene relacion alguna con el contexto, la respuesta debe ser 'Lo siento no puedo ayudarte con eso'.\n",
    "\n",
    "            ###\n",
    "            Contexto:\n",
    "            {historia}\n",
    "\n",
    "            ###\n",
    "            Pregunta:\n",
    "            {pregunta}\n",
    "\n",
    "            \"\"\"\n",
    "\n",
    "    \"llamada al modelo para responder a la pregunta ingresada\"\n",
    "    response_pregunta = co.chat(\n",
    "        model=\"command-r-plus-08-2024\",\n",
    "        messages=[{\"role\": \"user\", \"content\": prompt}],\n",
    "        temperature=0.1,\n",
    "        seed=42,\n",
    "    )\n",
    "    \n",
    "    respuesta = response_pregunta.message.content[0].text\n",
    "\n",
    "    \"llamo a la funcion para detectar los idiomas de la pregunta y la respuesta\"\n",
    "    idioma_pregunta = detector_idioma(pregunta)\n",
    "    idioma_respuesta = detector_idioma(respuesta)\n",
    "\n",
    "    \"valido que la pregunta y respuesta esten en el mismo idioma, si no realizo la traducción\"\n",
    "    if (idioma_pregunta != idioma_respuesta): \n",
    "        respuesta_procesada = traductor(respuesta, idioma_pregunta)\n",
    "    else:\n",
    "        respuesta_procesada = respuesta\n",
    "\n",
    "    \n",
    "    respuesta_al_usuario = respuesta_procesada + ' Hakuna Matata!'\n",
    "\n",
    "\n",
    "    \n",
    "    return respuesta_al_usuario"
   ]
  },
  {
   "cell_type": "code",
   "execution_count": 42,
   "id": "f3aaa967-d87f-45d9-9a72-6fc63afc931c",
   "metadata": {},
   "outputs": [
    {
     "name": "stdout",
     "output_type": "stream",
     "text": [
      "Thomas sintió una mezcla de miedo y determinación al empuñar la lanza, sabiendo que su vida estaba a punto de cambiar para siempre. 🗡️💪🙏 Hakuna Matata!\n"
     ]
    }
   ],
   "source": [
    "historia = \"\"\"En un pequeño feudo medieval, Thomas, un joven campesino de dieciséis años, trabajaba desde el amanecer en los campos de trigo del señor feudal. El sol apenas había salido cuando él ya había arado más de lo que sus manos podían soportar. La vida era dura, pero su familia dependía de la cosecha para pagar los impuestos y mantener su hogar de madera y paja.\n",
    "\n",
    "Un día, el feudo fue sacudido por noticias de guerra. El rey había llamado a todos los hombres en edad de luchar. Thomas sabía que, al igual que otros jóvenes, no tenía elección. Cambió la hoz por una lanza rudimentaria y se unió a la milicia local. Sin entrenamiento, fue empujado a un campo de batalla embarrado, donde el acero resonaba y los gritos de los hombres llenaban el aire.\n",
    "\n",
    "La batalla fue un caos. Thomas, con el corazón latiendo en su pecho como un tambor de guerra, apenas podía distinguir amigo de enemigo. Logró esquivar una espada, pero cayó al suelo, cubierto de lodo y sangre. Levantándose, vio cómo un compañero caía junto a él, sus ojos abiertos, vacíos.\n",
    "\n",
    "Cuando la batalla terminó, el silencio era tan profundo como el vacío que sentía. Thomas regresó al feudo, diferente, marcado por la muerte y la violencia. Su madre lo recibió con lágrimas en los ojos, pero él, con la mirada fija en el horizonte, sabía que la inocencia había quedado atrás, enterrada en aquel campo de batalla. La paz del feudo ya no era la misma; él tampoco.\"\"\"\n",
    "\n",
    "\n",
    "pregunta = \"¿Cómo se sintió Thomas al cambiar la hoz por la lanza?\"\n",
    "\n",
    "\n",
    "# respuesta\n",
    "print(history_answer(pregunta))"
   ]
  },
  {
   "cell_type": "code",
   "execution_count": null,
   "id": "795f451e-6c12-4631-895f-fa6ac8f16b74",
   "metadata": {},
   "outputs": [],
   "source": []
  },
  {
   "cell_type": "markdown",
   "id": "db6e9a7d-aa39-4a01-ba55-9a7f4ea39522",
   "metadata": {},
   "source": [
    "## Ejercicio 4\n",
    "\n",
    "Crear un chatbot sencillo impulsado por un LLM. \n",
    "\n",
    "Dicho bot esta destinado a un usuario final y debe cumplir las siguientes **condiciones en sus respuestas**:\n",
    "\n",
    "- Responder en no mas de 70 tokens.\n",
    "- Responder de manera positiva, con un tono entusiasta.\n",
    "- Responder con consejos útiles, como si fueras un tutor.\n",
    "\n",
    " \n",
    "**Otras consideraciones**:\n",
    "\n",
    "Respetar el formato de la interfaz provista por el ejercicio.\n",
    "\n",
    "Ademas agregar al codigo propuesto un historial de conversaciones para que el bot pueda mantener el hilo de lo que se esta hablando. Para probar no usen mas de 3 conversaciones anidadas para no enviarle tantos tokens.\n",
    "\n",
    "Dejar impreso en el notebook el historial de la conversacion."
   ]
  },
  {
   "cell_type": "code",
   "execution_count": 1,
   "id": "5284210f-23a3-4db1-b315-db724a3bb3a5",
   "metadata": {},
   "outputs": [],
   "source": []
  },
  {
   "cell_type": "code",
   "execution_count": 55,
   "id": "aa475fa8-e48b-423e-9006-7478a462129c",
   "metadata": {},
   "outputs": [
    {
     "data": {
      "application/vnd.jupyter.widget-view+json": {
       "model_id": "a7d6c9631d764d8c96f25fca4d88a8b9",
       "version_major": 2,
       "version_minor": 0
      },
      "text/plain": [
       "Text(value='', placeholder='Escribe tu mensaje aquí...')"
      ]
     },
     "metadata": {},
     "output_type": "display_data"
    },
    {
     "data": {
      "application/vnd.jupyter.widget-view+json": {
       "model_id": "02a9604d7b0b4e33afa135d66f0034ab",
       "version_major": 2,
       "version_minor": 0
      },
      "text/plain": [
       "Button(description='Enviar', style=ButtonStyle())"
      ]
     },
     "metadata": {},
     "output_type": "display_data"
    },
    {
     "data": {
      "application/vnd.jupyter.widget-view+json": {
       "model_id": "41b7494d1f694d598aa729aabdefb9d6",
       "version_major": 2,
       "version_minor": 0
      },
      "text/plain": [
       "Output()"
      ]
     },
     "metadata": {},
     "output_type": "display_data"
    }
   ],
   "source": [
    "# Crear widgets de entrada y salida\n",
    "input_box = widgets.Text(placeholder='Escribe tu mensaje aquí...')\n",
    "send_button = widgets.Button(description='Enviar')\n",
    "output_box = widgets.Output()\n",
    "co = cohere.ClientV2()\n",
    "\n",
    "chat_history = []\n",
    "\n",
    "# Función de respuesta simulada del chatbot\n",
    "def chatbot_response(message):\n",
    "    global chat_history\n",
    "\n",
    "    chat_history.append({\"role\": \"user\", \"content\": message})\n",
    "\n",
    "    \" no usen mas de 3 conversaciones anidadas para no enviarle tantos tokens.\"\n",
    "    if len(chat_history) > 3:\n",
    "        chat_history = chat_history[-3:]\n",
    "\n",
    "    prompt = [\n",
    "        {\"role\": \"system\", \"content\": \"Responde de manera positiva, con un tono entusiasta. Responde con consejos útiles, como si fueras un tutor.\"}\n",
    "    ] + chat_history\n",
    "    \n",
    "    # Aquí puedes conectar tu modelo o lógica de chatbot real\n",
    "    response = co.chat(\n",
    "        model=\"command-r-plus-08-2024\",\n",
    "        messages= prompt,\n",
    "        max_tokens=70\n",
    "    )\n",
    "    \n",
    "    return response.message.content[0].text\n",
    "\n",
    "# Función de manejo del botón\n",
    "def on_send_button_clicked(b):\n",
    "    with output_box:\n",
    "        clear_output(wait=True)\n",
    "        user_message = input_box.value\n",
    "        if user_message.strip():\n",
    "            print(f\"Tú: {user_message}\")\n",
    "            response = chatbot_response(user_message)\n",
    "            print(f\"Chatbot: {response}\")\n",
    "        input_box.value = ''\n",
    "\n",
    "# Asociar función al botón\n",
    "send_button.on_click(on_send_button_clicked)\n",
    "\n",
    "# Mostrar widgets\n",
    "display(input_box, send_button, output_box)"
   ]
  },
  {
   "cell_type": "code",
   "execution_count": null,
   "id": "436d5bce-0189-4ecd-a06d-fcc7a81315b5",
   "metadata": {},
   "outputs": [],
   "source": []
  },
  {
   "cell_type": "code",
   "execution_count": 57,
   "id": "4a213283-3ef7-4df8-8b7f-3bb11d58362d",
   "metadata": {},
   "outputs": [
    {
     "name": "stdout",
     "output_type": "stream",
     "text": [
      "[{'role': 'user', 'content': ' Hola, cómo puedo ayudar a alguien en situacion de pobreza?'}, {'role': 'user', 'content': 'Esta persona duerme en la calle'}, {'role': 'user', 'content': 'Puedo ofrecerle trabajo?'}]\n"
     ]
    }
   ],
   "source": [
    "print(chat_history)"
   ]
  },
  {
   "cell_type": "markdown",
   "id": "c6fb6d6a-1c32-42e5-a1ee-d62b2bc0785a",
   "metadata": {},
   "source": [
    "### RECOMENDACIONES GENERALES\n",
    "\n",
    "No se confien probando con un par de respuestas y ya, hagan minimo 5 pruebas por ejercicio para asi tener mas chances de visualizar errores en la generacion del contenido.\n",
    "\n",
    "Prueben combinar LLMs con programacion convencional para los casos que vean convenientes (decisiones if else, respuestas estaticas, etc)\n",
    "\n",
    "Prueben con distintos modelos de Cohere, hay algunos optimizados para ciertas aplicaciones."
   ]
  },
  {
   "cell_type": "code",
   "execution_count": null,
   "id": "2a3f2e37-bf32-43b7-8958-e39954a20fb1",
   "metadata": {},
   "outputs": [],
   "source": []
  },
  {
   "cell_type": "code",
   "execution_count": 13,
   "id": "c36ef67d-dd54-41e7-bef5-f89ee575603f",
   "metadata": {},
   "outputs": [],
   "source": [
    "# TIPS\n",
    "# Probar primero generando una funcion y llamarla, luego anadir la otra\n",
    "# Plantearlo paso por paso en distintas celdas, analizar las salidas y las entradas, como identificamos a que funcion llamar?\n",
    "# luego automatizar dentro de una sola celda\n",
    "\n",
    "\n",
    "# Lo importante es entregar hasta donde lleguen, sea una funcion, las dos pero sin poder hacer el flujo automatico, lo que puedan, siempre y cuando este\n",
    "# claro lo que se quizo hacer con comentarios."
   ]
  }
 ],
 "metadata": {
  "kernelspec": {
   "display_name": "Python 3 (ipykernel)",
   "language": "python",
   "name": "python3"
  },
  "language_info": {
   "codemirror_mode": {
    "name": "ipython",
    "version": 3
   },
   "file_extension": ".py",
   "mimetype": "text/x-python",
   "name": "python",
   "nbconvert_exporter": "python",
   "pygments_lexer": "ipython3",
   "version": "3.12.7"
  }
 },
 "nbformat": 4,
 "nbformat_minor": 5
}
